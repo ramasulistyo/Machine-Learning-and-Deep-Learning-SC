{
  "nbformat": 4,
  "nbformat_minor": 0,
  "metadata": {
    "colab": {
      "provenance": [],
      "authorship_tag": "ABX9TyMayXh2dotOd9rHk7aGT7nV",
      "include_colab_link": true
    },
    "kernelspec": {
      "name": "python3",
      "display_name": "Python 3"
    },
    "language_info": {
      "name": "python"
    }
  },
  "cells": [
    {
      "cell_type": "markdown",
      "metadata": {
        "id": "view-in-github",
        "colab_type": "text"
      },
      "source": [
        "<a href=\"https://colab.research.google.com/github/ramasulistyo/Machine-Learning-and-Deep-Learning-SC/blob/main/04_03_Fire_Muhammad_Rama_Diennova_Sulistyo.ipynb\" target=\"_parent\"><img src=\"https://colab.research.google.com/assets/colab-badge.svg\" alt=\"Open In Colab\"/></a>"
      ]
    },
    {
      "cell_type": "markdown",
      "source": [
        "##Dataset MNIST"
      ],
      "metadata": {
        "id": "f4Ct4prm-Gc_"
      }
    },
    {
      "cell_type": "code",
      "source": [
        "import torch\n",
        "import torchvision\n",
        "import torchvision.transforms as transforms\n",
        "\n",
        "transform = transforms.Compose([transforms.ToTensor(), transforms.Normalize((0.5,), (0.5,))])\n",
        "\n",
        "train_dataset = torchvision.datasets.MNIST(root='./data', train=True, transform=transform, download=True)\n",
        "test_dataset = torchvision.datasets.MNIST(root='./data', train=False, transform=transform, download=True)\n",
        "\n",
        "train_loader = torch.utils.data.DataLoader(dataset=train_dataset, batch_size=64, shuffle=True)\n",
        "test_loader = torch.utils.data.DataLoader(dataset=test_dataset, batch_size=64, shuffle=False)"
      ],
      "metadata": {
        "colab": {
          "base_uri": "https://localhost:8080/"
        },
        "id": "N1_OmGes-NzF",
        "outputId": "57f8e8a7-51a4-400c-f9ec-074da77f19a4"
      },
      "execution_count": null,
      "outputs": [
        {
          "output_type": "stream",
          "name": "stdout",
          "text": [
            "Downloading http://yann.lecun.com/exdb/mnist/train-images-idx3-ubyte.gz\n",
            "Downloading http://yann.lecun.com/exdb/mnist/train-images-idx3-ubyte.gz to ./data/MNIST/raw/train-images-idx3-ubyte.gz\n"
          ]
        },
        {
          "output_type": "stream",
          "name": "stderr",
          "text": [
            "100%|██████████| 9912422/9912422 [00:00<00:00, 65735467.68it/s]\n"
          ]
        },
        {
          "output_type": "stream",
          "name": "stdout",
          "text": [
            "Extracting ./data/MNIST/raw/train-images-idx3-ubyte.gz to ./data/MNIST/raw\n",
            "\n",
            "Downloading http://yann.lecun.com/exdb/mnist/train-labels-idx1-ubyte.gz\n",
            "Downloading http://yann.lecun.com/exdb/mnist/train-labels-idx1-ubyte.gz to ./data/MNIST/raw/train-labels-idx1-ubyte.gz\n"
          ]
        },
        {
          "output_type": "stream",
          "name": "stderr",
          "text": [
            "100%|██████████| 28881/28881 [00:00<00:00, 52078974.13it/s]"
          ]
        },
        {
          "output_type": "stream",
          "name": "stdout",
          "text": [
            "Extracting ./data/MNIST/raw/train-labels-idx1-ubyte.gz to ./data/MNIST/raw\n",
            "\n",
            "Downloading http://yann.lecun.com/exdb/mnist/t10k-images-idx3-ubyte.gz\n",
            "Downloading http://yann.lecun.com/exdb/mnist/t10k-images-idx3-ubyte.gz to ./data/MNIST/raw/t10k-images-idx3-ubyte.gz\n"
          ]
        },
        {
          "output_type": "stream",
          "name": "stderr",
          "text": [
            "\n",
            "100%|██████████| 1648877/1648877 [00:00<00:00, 29208089.35it/s]\n"
          ]
        },
        {
          "output_type": "stream",
          "name": "stdout",
          "text": [
            "Extracting ./data/MNIST/raw/t10k-images-idx3-ubyte.gz to ./data/MNIST/raw\n",
            "\n",
            "Downloading http://yann.lecun.com/exdb/mnist/t10k-labels-idx1-ubyte.gz\n",
            "Downloading http://yann.lecun.com/exdb/mnist/t10k-labels-idx1-ubyte.gz to ./data/MNIST/raw/t10k-labels-idx1-ubyte.gz\n"
          ]
        },
        {
          "output_type": "stream",
          "name": "stderr",
          "text": [
            "100%|██████████| 4542/4542 [00:00<00:00, 4677271.98it/s]"
          ]
        },
        {
          "output_type": "stream",
          "name": "stdout",
          "text": [
            "Extracting ./data/MNIST/raw/t10k-labels-idx1-ubyte.gz to ./data/MNIST/raw\n",
            "\n"
          ]
        },
        {
          "output_type": "stream",
          "name": "stderr",
          "text": [
            "\n"
          ]
        }
      ]
    },
    {
      "cell_type": "markdown",
      "source": [
        "##Visualisasi Data MNIST"
      ],
      "metadata": {
        "id": "mg4J_Ny_-ckJ"
      }
    },
    {
      "cell_type": "code",
      "source": [
        "import matplotlib.pyplot as plt\n",
        "import numpy as np\n",
        "\n",
        "dataiter = iter(train_loader)\n",
        "images, labels = next(dataiter)\n",
        "\n",
        "fig, axes = plt.subplots(5, 5, figsize=(12, 10))\n",
        "for i, ax in enumerate(axes.flat):\n",
        "    ax.imshow(images[i][0], cmap='gray')\n",
        "    ax.set_title(f'Label: {labels[i].item()}', fontsize=10)\n",
        "    ax.axis('off')  # Menghilangkan sumbu\n",
        "plt.subplots_adjust(wspace=0.5, hspace=0.5)  # Jarak antar subplot\n",
        "plt.show()"
      ],
      "metadata": {
        "colab": {
          "base_uri": "https://localhost:8080/",
          "height": 826
        },
        "id": "XllOBEDo-oc-",
        "outputId": "d3232b1b-3881-41f6-dc44-89b3806d0169"
      },
      "execution_count": null,
      "outputs": [
        {
          "output_type": "display_data",
          "data": {
            "text/plain": [
              "<Figure size 1200x1000 with 25 Axes>"
            ],
            "image/png": "[encoded data removed]"
          },
          "metadata": {}
        }
      ]
    },
    {
      "cell_type": "markdown",
      "source": [
        "## Desain Model Neural Network"
      ],
      "metadata": {
        "id": "BTuC6NRJ-6w1"
      }
    },
    {
      "cell_type": "code",
      "source": [
        "import torch.nn as nn\n",
        "import torch.nn.functional as F\n",
        "\n",
        "class NeuralNetwork(nn.Module):\n",
        "    def __init__(self):\n",
        "        super(NeuralNetwork, self).__init__()\n",
        "        self.fc1 = nn.Linear(28 * 28, 128)\n",
        "        self.fc2 = nn.Linear(128, 64)\n",
        "        self.fc3 = nn.Linear(64, 10)\n",
        "\n",
        "    def forward(self, x):\n",
        "        x = x.view(-1, 28 * 28)\n",
        "        x = F.relu(self.fc1(x))\n",
        "        x = F.relu(self.fc2(x))\n",
        "        x = self.fc3(x)\n",
        "        return x\n",
        "\n",
        "model = NeuralNetwork()\n"
      ],
      "metadata": {
        "id": "Vx3lEuji-_eJ"
      },
      "execution_count": null,
      "outputs": []
    },
    {
      "cell_type": "markdown",
      "source": [
        "##Pengaturan Hyperparameter\n"
      ],
      "metadata": {
        "id": "2GbolQIg_E7X"
      }
    },
    {
      "cell_type": "code",
      "source": [
        "import torch.optim as optim\n",
        "\n",
        "criterion = nn.CrossEntropyLoss()\n",
        "optimizer = optim.Adam(model.parameters(), lr=0.001)\n",
        "epoch = 10"
      ],
      "metadata": {
        "id": "1zS0SfMv_J9o"
      },
      "execution_count": null,
      "outputs": []
    },
    {
      "cell_type": "markdown",
      "source": [
        "##Looping untuk training model"
      ],
      "metadata": {
        "id": "DpbeR_SS_N5M"
      }
    },
    {
      "cell_type": "code",
      "source": [
        "for epoch in range(epoch):\n",
        "    running_loss = 0.0\n",
        "    for i, data in enumerate(train_loader, 0):\n",
        "        inputs, labels = data\n",
        "        optimizer.zero_grad()\n",
        "        outputs = model(inputs)\n",
        "        loss = criterion(outputs, labels)\n",
        "        loss.backward()\n",
        "        optimizer.step()\n",
        "        running_loss += loss.item()\n",
        "    print(f'Epoch {epoch+1}, Loss: {running_loss/len(train_loader)}')"
      ],
      "metadata": {
        "colab": {
          "base_uri": "https://localhost:8080/"
        },
        "id": "yaSf0ges_T4I",
        "outputId": "8a7148c8-223a-4aff-d034-6f318e245bc9"
      },
      "execution_count": null,
      "outputs": [
        {
          "output_type": "stream",
          "name": "stdout",
          "text": [
            "Epoch 1, Loss: 0.05640924418879264\n",
            "Epoch 2, Loss: 0.05049545093497106\n",
            "Epoch 3, Loss: 0.04569667923415124\n",
            "Epoch 4, Loss: 0.04324440610645188\n",
            "Epoch 5, Loss: 0.03960031649277884\n",
            "Epoch 6, Loss: 0.03787277971263672\n",
            "Epoch 7, Loss: 0.03509335406737386\n",
            "Epoch 8, Loss: 0.03313587914794346\n",
            "Epoch 9, Loss: 0.027995084779622377\n",
            "Epoch 10, Loss: 0.030725814254133097\n"
          ]
        }
      ]
    },
    {
      "cell_type": "markdown",
      "source": [
        "##Evaluasi Model"
      ],
      "metadata": {
        "id": "zCQHdo-lJ6gm"
      }
    },
    {
      "cell_type": "code",
      "source": [
        "from sklearn.metrics import confusion_matrix, classification_report, f1_score, precision_score, recall_score, accuracy_score\n",
        "\n",
        "correct = 0\n",
        "total = 0\n",
        "all_preds = []\n",
        "all_labels = []\n",
        "\n",
        "with torch.no_grad():\n",
        "    for data in test_loader:\n",
        "        images, labels = data\n",
        "        outputs = model(images)\n",
        "        _, predicted = torch.max(outputs.data, 1)\n",
        "        total += labels.size(0)\n",
        "        correct += (predicted == labels).sum().item()\n",
        "        all_preds.extend(predicted.tolist())\n",
        "        all_labels.extend(labels.tolist())\n",
        "\n",
        "accuracy = accuracy_score(all_labels, all_preds)\n",
        "print('Akurasi: {:.2f}%'.format(accuracy * 100))\n",
        "print(\"\")\n",
        "\n",
        "cm = confusion_matrix(all_labels, all_preds)\n",
        "print(\"Confusion Matrix: \")\n",
        "print(cm)\n",
        "print(\"\")\n",
        "\n",
        "classification_rep = classification_report(all_labels, all_preds)\n",
        "print('Laporan Klasifikasi:')\n",
        "print(classification_rep)"
      ],
      "metadata": {
        "colab": {
          "base_uri": "https://localhost:8080/"
        },
        "id": "qj3ydYv2KBNh",
        "outputId": "986dc73a-6f9c-4272-8a71-a6dcf8b6a3d2"
      },
      "execution_count": null,
      "outputs": [
        {
          "output_type": "stream",
          "name": "stdout",
          "text": [
            "Akurasi: 96.80%\n",
            "\n",
            "Confusion Matrix: \n",
            "[[ 945    2    7    0    4    0    7    9    1    5]\n",
            " [   0 1131    1    0    0    1    2    0    0    0]\n",
            " [   1    3 1002    6    3    0    3   11    2    1]\n",
            " [   0    1    4  995    0    1    0    6    3    0]\n",
            " [   0    4    4    0  963    0    3    4    0    4]\n",
            " [   2    2    0   21    2  852    6    4    2    1]\n",
            " [   2    3    1    1    4    6  940    0    1    0]\n",
            " [   0    8    8    1    2    0    0 1007    1    1]\n",
            " [   0   11    5   23    3    6    3    5  916    2]\n",
            " [   0   20    1    7   29    2    2   16    3  929]]\n",
            "\n",
            "Laporan Klasifikasi:\n",
            "              precision    recall  f1-score   support\n",
            "\n",
            "           0       0.99      0.96      0.98       980\n",
            "           1       0.95      1.00      0.98      1135\n",
            "           2       0.97      0.97      0.97      1032\n",
            "           3       0.94      0.99      0.96      1010\n",
            "           4       0.95      0.98      0.97       982\n",
            "           5       0.98      0.96      0.97       892\n",
            "           6       0.97      0.98      0.98       958\n",
            "           7       0.95      0.98      0.96      1028\n",
            "           8       0.99      0.94      0.96       974\n",
            "           9       0.99      0.92      0.95      1009\n",
            "\n",
            "    accuracy                           0.97     10000\n",
            "   macro avg       0.97      0.97      0.97     10000\n",
            "weighted avg       0.97      0.97      0.97     10000\n",
            "\n"
          ]
        }
      ]
    },
    {
      "cell_type": "markdown",
      "source": [
        "##Penjelasan Akhir"
      ],
      "metadata": {
        "id": "S4tax0oTeJRG"
      }
    },
    {
      "cell_type": "markdown",
      "source": [
        "Hasil di atas mencerminkan pencapaian dari pelatihan model deep learning untuk mengklasifikasikan digit tulisan tangan dalam dataset MNIST. Selama proses pelatihan, model melewati beberapa iterasi (epoch) dengan mengalami penurunan berkelanjutan dalam nilai kerugian (loss), menunjukkan perkembangan yang signifikan dalam pembelajaran model. Pada akhirnya, model mencapai tingkat akurasi sekitar 96.80%.\n",
        "\n",
        "Selain itu, dengan melihat (confusion matrix) dan laporan klasifikasi, kita dapat mendapatkan wawasan yang mendalam tentang performa model dalam mengklasifikasikan setiap kelas digit. Ini mencakup evaluasi berbagai metrik seperti presisi (precision), recall, dan nilai F1. Model ini menunjukkan kinerja yang luar biasa dalam pengenalan digit tulisan tangan, dengan akurasi yang tinggi dan konsistensi yang kuat di seluruh kelas digit. Hasil ini membenarkan bahwa model ini sangat efektif dalam tugas klasifikasi digit."
      ],
      "metadata": {
        "id": "DGCRwZ3_eSzo"
      }
    }
  ]
}